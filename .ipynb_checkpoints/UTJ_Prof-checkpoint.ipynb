{
 "cells": [
  {
   "cell_type": "markdown",
   "id": "c8d511e0-eb9d-49f0-802f-e25d3a581e25",
   "metadata": {},
   "source": [
    "## UT Journalism Professor Bio Scraper\n",
    "\n",
    "Data Scraper: José Martínez, martinez307jose@gmail.com\n",
    "\n",
    "In this project, I wanted to know if there were any professors in my journalism school that had done investigative work in their careers.\n",
    "\n",
    "The following page, https://journalism.utexas.edu/faculty, displays every professor from the journalism school at UT but with only their name, position, and image. To see more info about their careers, you'd have to click on the image and go to an entirely different page.\n",
    "\n",
    "To find a professor who had done investigative work, it seemed too complicated to click through every page, so I decided to create this scraper.\n",
    "\n",
    "Important to note, the page does have a search bar that does the exact function I want it to do, but I wanted to try it on my own for fun.\n",
    "\n",
    "In essence, I used Selenium to first pull the links from all the pages. I noticed that every page with a professor's bio had \"faculty/\" in their url, so I filtered for that. Then, I just pulled the page source of each page. Searching for a string in the page source would be similar to searching for a keyword in each page. Thus, the final cell iterates through every link with your keyword and returns the last name of the professors that have that keyword.\n",
    "\n",
    "For example, if one wants to know if a certain professor of ours has worked at ‘CNN’ or has done ‘audio’ work, one would input the keyword and it would return what professors have that in their bio. "
   ]
  },
  {
   "cell_type": "code",
   "execution_count": 171,
   "id": "98e9b61a-259b-4629-8ec6-ebac89369fee",
   "metadata": {},
   "outputs": [],
   "source": [
    "import pandas as pd"
   ]
  },
  {
   "cell_type": "code",
   "execution_count": 172,
   "id": "68dd2fcd-77ba-4f44-9860-a68febfb9bf0",
   "metadata": {},
   "outputs": [],
   "source": [
    "from selenium import webdriver \n",
    "from selenium.webdriver.common.by import By \n",
    "from selenium.webdriver.support.ui import WebDriverWait \n",
    "from selenium.webdriver.support import expected_conditions as EC \n",
    "from selenium.common.exceptions import TimeoutException"
   ]
  },
  {
   "cell_type": "code",
   "execution_count": 180,
   "id": "cc174df0-8509-42e7-a314-23175da4bf27",
   "metadata": {},
   "outputs": [],
   "source": [
    "driver = webdriver.Chrome('/Users/josemartinez/Desktop/chromedriver')  "
   ]
  },
  {
   "cell_type": "code",
   "execution_count": 134,
   "id": "3edfc21d-3aaf-4af5-bb36-70edf88760a5",
   "metadata": {},
   "outputs": [],
   "source": [
    "# Pull all links and put them into list\n",
    "driver.get(\"https://journalism.utexas.edu/faculty\")\n",
    "pages = []\n",
    "text = 'faculty'\n",
    "urls = driver.find_elements_by_tag_name('a')\n",
    "for url in urls:\n",
    "        pages.append(url.get_attribute('href'))"
   ]
  },
  {
   "cell_type": "code",
   "execution_count": 140,
   "id": "a23ac0bb-44aa-40c5-a0f0-6079a4405ccf",
   "metadata": {},
   "outputs": [],
   "source": [
    "# Remove values that have 'None' values\n",
    "clean_pages = [x for x in pages if x != None]"
   ]
  },
  {
   "cell_type": "code",
   "execution_count": 141,
   "id": "3721ad4c-9c02-48f8-98f9-7e75b007f47d",
   "metadata": {},
   "outputs": [],
   "source": [
    "# Filter for links that have professor bios\n",
    "faculty_pages = []\n",
    "for x in clean_pages:\n",
    "    if 'faculty/' in x:\n",
    "        faculty_pages.append(x)"
   ]
  },
  {
   "cell_type": "code",
   "execution_count": 181,
   "id": "6ed98c4a-b0c7-4887-8862-23ca1f99d8b6",
   "metadata": {},
   "outputs": [],
   "source": [
    "# Iterates through every webpage and searches for string inside their page source\n",
    "profs = []\n",
    "for page in faculty_pages:\n",
    "    driver.get(page)\n",
    "    text = driver.page_source\n",
    "    if 'investigative' in text:\n",
    "        for element in driver.find_elements_by_class_name('field--name-field-last-name-faculty-bio'):\n",
    "            profs.append(element.text)"
   ]
  },
  {
   "cell_type": "code",
   "execution_count": 182,
   "id": "eee4bc0f-ca77-42b6-a805-5d1b99230f72",
   "metadata": {},
   "outputs": [
    {
     "data": {
      "text/plain": [
       "['Dawson', 'Pearson']"
      ]
     },
     "execution_count": 182,
     "metadata": {},
     "output_type": "execute_result"
    }
   ],
   "source": [
    "# New list returns professors\n",
    "profs"
   ]
  }
 ],
 "metadata": {
  "kernelspec": {
   "display_name": "Python 3",
   "language": "python",
   "name": "python3"
  },
  "language_info": {
   "codemirror_mode": {
    "name": "ipython",
    "version": 3
   },
   "file_extension": ".py",
   "mimetype": "text/x-python",
   "name": "python",
   "nbconvert_exporter": "python",
   "pygments_lexer": "ipython3",
   "version": "3.8.8"
  }
 },
 "nbformat": 4,
 "nbformat_minor": 5
}
